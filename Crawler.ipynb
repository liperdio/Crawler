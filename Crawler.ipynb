{
 "cells": [
  {
   "cell_type": "code",
   "execution_count": 18,
   "id": "6ae43b72",
   "metadata": {},
   "outputs": [
    {
     "name": "stdout",
     "output_type": "stream",
     "text": [
      "Crawling: http://accent.gmu.edu/soundtracks/\n"
     ]
    }
   ],
   "source": [
    "import requests\n",
    "from bs4 import BeautifulSoup\n",
    "from urllib.parse import urlparse, urljoin\n",
    "import os\n",
    "\n",
    "def web_crawler(url, max_depth):\n",
    "    visited_urls = set()\n",
    "\n",
    "    def crawl(url, depth):\n",
    "        if depth > max_depth:\n",
    "            return\n",
    "\n",
    "        print(\"Crawling:\", url)\n",
    "\n",
    "        try:\n",
    "            response = requests.get(url)\n",
    "        except requests.exceptions.RequestException:\n",
    "            # Handle any exceptions that occur during the request\n",
    "            return\n",
    "\n",
    "        visited_urls.add(url)\n",
    "        soup = BeautifulSoup(response.text, 'html.parser')\n",
    "\n",
    "        # Extract all links on the page\n",
    "        for link in soup.find_all('a'):\n",
    "            href = link.get('href')\n",
    "            if href and href.startswith('http') and href not in visited_urls:\n",
    "                crawl(href, depth + 1)\n",
    "\n",
    "        # Download MP3 files\n",
    "        for file_link in soup.find_all('a'):\n",
    "            href = file_link.get('href')\n",
    "            if href and href.endswith('.mp3'):\n",
    "                file_url = urljoin(url, href)\n",
    "                download_file(file_url)\n",
    "\n",
    "    def download_file(url):\n",
    "        try:\n",
    "            response = requests.get(url)\n",
    "            filename = os.path.basename(urlparse(url).path)\n",
    "            file_path = os.path.join(\"mp3_files\", filename)\n",
    "\n",
    "            if os.path.isfile(file_path):\n",
    "                return\n",
    "\n",
    "            with open(file_path, 'wb') as file:\n",
    "                file.write(response.content)\n",
    "        except requests.exceptions.RequestException:\n",
    "            # Handle any exceptions that occur during the file download\n",
    "            return\n",
    "\n",
    "    crawl(url, 0)\n",
    "\n",
    "# Specify the destination directory here\n",
    "os.makedirs(\"mp3_files\", exist_ok=True)\n",
    "\n",
    "# Example usage\n",
    "web_crawler('http://accent.gmu.edu/soundtracks/', 2)\n"
   ]
  },
  {
   "cell_type": "code",
   "execution_count": null,
   "id": "8014c242",
   "metadata": {},
   "outputs": [],
   "source": []
  }
 ],
 "metadata": {
  "kernelspec": {
   "display_name": "Python 3 (ipykernel)",
   "language": "python",
   "name": "python3"
  },
  "language_info": {
   "codemirror_mode": {
    "name": "ipython",
    "version": 3
   },
   "file_extension": ".py",
   "mimetype": "text/x-python",
   "name": "python",
   "nbconvert_exporter": "python",
   "pygments_lexer": "ipython3",
   "version": "3.10.9"
  }
 },
 "nbformat": 4,
 "nbformat_minor": 5
}
